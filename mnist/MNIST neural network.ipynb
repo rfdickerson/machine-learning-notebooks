{
 "cells": [
  {
   "cell_type": "code",
   "execution_count": 3,
   "metadata": {},
   "outputs": [
    {
     "name": "stdout",
     "output_type": "stream",
     "text": [
      "train (1).csv\n",
      "\n"
     ]
    }
   ],
   "source": [
    "import numpy as np # linear algebra\n",
    "import pandas as pd # data processing, CSV file I/O (e.g. pd.read_csv)\n",
    "\n",
    "from subprocess import check_output\n",
    "print(check_output([\"ls\", \"input\"]).decode(\"utf8\"))\n"
   ]
  },
  {
   "cell_type": "code",
   "execution_count": 4,
   "metadata": {},
   "outputs": [
    {
     "name": "stderr",
     "output_type": "stream",
     "text": [
      "Using TensorFlow backend.\n",
      "/home/rfdickerson/.local/lib/python2.7/site-packages/sklearn/cross_validation.py:44: DeprecationWarning: This module was deprecated in version 0.18 in favor of the model_selection module into which all the refactored classes and functions are moved. Also note that the interface of the new CV iterators are different from that of this module. This module will be removed in 0.20.\n",
      "  \"This module will be removed in 0.20.\", DeprecationWarning)\n"
     ]
    }
   ],
   "source": [
    "import keras\n",
    "from keras.models import Sequential\n",
    "from keras.layers import Dense,Activation,Conv2D,MaxPool2D,Flatten,Dropout\n",
    "from keras.utils import np_utils\n",
    "from sklearn.cross_validation import train_test_split"
   ]
  },
  {
   "cell_type": "code",
   "execution_count": 6,
   "metadata": {},
   "outputs": [
    {
     "data": {
      "text/html": [
       "<div>\n",
       "<style>\n",
       "    .dataframe thead tr:only-child th {\n",
       "        text-align: right;\n",
       "    }\n",
       "\n",
       "    .dataframe thead th {\n",
       "        text-align: left;\n",
       "    }\n",
       "\n",
       "    .dataframe tbody tr th {\n",
       "        vertical-align: top;\n",
       "    }\n",
       "</style>\n",
       "<table border=\"1\" class=\"dataframe\">\n",
       "  <thead>\n",
       "    <tr style=\"text-align: right;\">\n",
       "      <th></th>\n",
       "      <th>label</th>\n",
       "      <th>pixel0</th>\n",
       "      <th>pixel1</th>\n",
       "      <th>pixel2</th>\n",
       "      <th>pixel3</th>\n",
       "      <th>pixel4</th>\n",
       "      <th>pixel5</th>\n",
       "      <th>pixel6</th>\n",
       "      <th>pixel7</th>\n",
       "      <th>pixel8</th>\n",
       "      <th>...</th>\n",
       "      <th>pixel774</th>\n",
       "      <th>pixel775</th>\n",
       "      <th>pixel776</th>\n",
       "      <th>pixel777</th>\n",
       "      <th>pixel778</th>\n",
       "      <th>pixel779</th>\n",
       "      <th>pixel780</th>\n",
       "      <th>pixel781</th>\n",
       "      <th>pixel782</th>\n",
       "      <th>pixel783</th>\n",
       "    </tr>\n",
       "  </thead>\n",
       "  <tbody>\n",
       "    <tr>\n",
       "      <th>0</th>\n",
       "      <td>1</td>\n",
       "      <td>0</td>\n",
       "      <td>0</td>\n",
       "      <td>0</td>\n",
       "      <td>0</td>\n",
       "      <td>0</td>\n",
       "      <td>0</td>\n",
       "      <td>0</td>\n",
       "      <td>0</td>\n",
       "      <td>0</td>\n",
       "      <td>...</td>\n",
       "      <td>0</td>\n",
       "      <td>0</td>\n",
       "      <td>0</td>\n",
       "      <td>0</td>\n",
       "      <td>0</td>\n",
       "      <td>0</td>\n",
       "      <td>0</td>\n",
       "      <td>0</td>\n",
       "      <td>0</td>\n",
       "      <td>0</td>\n",
       "    </tr>\n",
       "    <tr>\n",
       "      <th>1</th>\n",
       "      <td>0</td>\n",
       "      <td>0</td>\n",
       "      <td>0</td>\n",
       "      <td>0</td>\n",
       "      <td>0</td>\n",
       "      <td>0</td>\n",
       "      <td>0</td>\n",
       "      <td>0</td>\n",
       "      <td>0</td>\n",
       "      <td>0</td>\n",
       "      <td>...</td>\n",
       "      <td>0</td>\n",
       "      <td>0</td>\n",
       "      <td>0</td>\n",
       "      <td>0</td>\n",
       "      <td>0</td>\n",
       "      <td>0</td>\n",
       "      <td>0</td>\n",
       "      <td>0</td>\n",
       "      <td>0</td>\n",
       "      <td>0</td>\n",
       "    </tr>\n",
       "    <tr>\n",
       "      <th>2</th>\n",
       "      <td>1</td>\n",
       "      <td>0</td>\n",
       "      <td>0</td>\n",
       "      <td>0</td>\n",
       "      <td>0</td>\n",
       "      <td>0</td>\n",
       "      <td>0</td>\n",
       "      <td>0</td>\n",
       "      <td>0</td>\n",
       "      <td>0</td>\n",
       "      <td>...</td>\n",
       "      <td>0</td>\n",
       "      <td>0</td>\n",
       "      <td>0</td>\n",
       "      <td>0</td>\n",
       "      <td>0</td>\n",
       "      <td>0</td>\n",
       "      <td>0</td>\n",
       "      <td>0</td>\n",
       "      <td>0</td>\n",
       "      <td>0</td>\n",
       "    </tr>\n",
       "  </tbody>\n",
       "</table>\n",
       "<p>3 rows × 785 columns</p>\n",
       "</div>"
      ],
      "text/plain": [
       "   label  pixel0  pixel1  pixel2  pixel3  pixel4  pixel5  pixel6  pixel7  \\\n",
       "0      1       0       0       0       0       0       0       0       0   \n",
       "1      0       0       0       0       0       0       0       0       0   \n",
       "2      1       0       0       0       0       0       0       0       0   \n",
       "\n",
       "   pixel8    ...     pixel774  pixel775  pixel776  pixel777  pixel778  \\\n",
       "0       0    ...            0         0         0         0         0   \n",
       "1       0    ...            0         0         0         0         0   \n",
       "2       0    ...            0         0         0         0         0   \n",
       "\n",
       "   pixel779  pixel780  pixel781  pixel782  pixel783  \n",
       "0         0         0         0         0         0  \n",
       "1         0         0         0         0         0  \n",
       "2         0         0         0         0         0  \n",
       "\n",
       "[3 rows x 785 columns]"
      ]
     },
     "execution_count": 6,
     "metadata": {},
     "output_type": "execute_result"
    }
   ],
   "source": [
    "df_train = pd.read_csv(\"input/train.csv\")\n",
    "df_train.head(3)"
   ]
  },
  {
   "cell_type": "code",
   "execution_count": 7,
   "metadata": {},
   "outputs": [
    {
     "data": {
      "text/plain": [
       "(42000, 784)"
      ]
     },
     "execution_count": 7,
     "metadata": {},
     "output_type": "execute_result"
    }
   ],
   "source": [
    "features = [\"%s%s\" %(\"pixel\",pixel_no) for pixel_no in range(0,784)]\n",
    "df_train_features = df_train[features]\n",
    "df_train_features.shape"
   ]
  },
  {
   "cell_type": "code",
   "execution_count": 9,
   "metadata": {},
   "outputs": [
    {
     "data": {
      "text/plain": [
       "array([[ 0.,  1.,  0.,  0.,  0.,  0.,  0.,  0.,  0.,  0.],\n",
       "       [ 1.,  0.,  0.,  0.,  0.,  0.,  0.,  0.,  0.,  0.],\n",
       "       [ 0.,  1.,  0.,  0.,  0.,  0.,  0.,  0.,  0.,  0.]])"
      ]
     },
     "execution_count": 9,
     "metadata": {},
     "output_type": "execute_result"
    }
   ],
   "source": [
    "df_train_labels = df_train[\"label\"]\n",
    "df_train_labels_categorical = np_utils.to_categorical(df_train_labels)\n",
    "df_train_labels_categorical[0:3]"
   ]
  },
  {
   "cell_type": "code",
   "execution_count": 10,
   "metadata": {
    "collapsed": true
   },
   "outputs": [],
   "source": [
    "X_train,X_test,y_train,y_test = train_test_split(df_train_features, df_train_labels_categorical, test_size=0.10,random_state=32)"
   ]
  },
  {
   "cell_type": "markdown",
   "metadata": {},
   "source": [
    "## Architecture of Keras Model"
   ]
  },
  {
   "cell_type": "code",
   "execution_count": 11,
   "metadata": {},
   "outputs": [
    {
     "name": "stdout",
     "output_type": "stream",
     "text": [
      "Epoch 1/50\n",
      "37800/37800 [==============================] - 2s - loss: 2.3599 - acc: 0.5749     \n",
      "Epoch 2/50\n",
      "37800/37800 [==============================] - 1s - loss: 0.6720 - acc: 0.8051     \n",
      "Epoch 3/50\n",
      "37800/37800 [==============================] - 1s - loss: 0.4511 - acc: 0.8711     \n",
      "Epoch 4/50\n",
      "37800/37800 [==============================] - 1s - loss: 0.3566 - acc: 0.8985     \n",
      "Epoch 5/50\n",
      "37800/37800 [==============================] - 1s - loss: 0.3023 - acc: 0.9149     \n",
      "Epoch 6/50\n",
      "37800/37800 [==============================] - 1s - loss: 0.2718 - acc: 0.9222     \n",
      "Epoch 7/50\n",
      "37800/37800 [==============================] - 1s - loss: 0.2425 - acc: 0.9289     \n",
      "Epoch 8/50\n",
      "37800/37800 [==============================] - 1s - loss: 0.2224 - acc: 0.9360     \n",
      "Epoch 9/50\n",
      "37800/37800 [==============================] - 1s - loss: 0.2069 - acc: 0.9401     \n",
      "Epoch 10/50\n",
      "37800/37800 [==============================] - 1s - loss: 0.1943 - acc: 0.9435     \n",
      "Epoch 11/50\n",
      "37800/37800 [==============================] - 1s - loss: 0.1856 - acc: 0.9464     \n",
      "Epoch 12/50\n",
      "37800/37800 [==============================] - 1s - loss: 0.1742 - acc: 0.9483     \n",
      "Epoch 13/50\n",
      "37800/37800 [==============================] - 1s - loss: 0.1652 - acc: 0.9512     \n",
      "Epoch 14/50\n",
      "37800/37800 [==============================] - 1s - loss: 0.1571 - acc: 0.9537     \n",
      "Epoch 15/50\n",
      "37800/37800 [==============================] - 1s - loss: 0.1490 - acc: 0.9556     \n",
      "Epoch 16/50\n",
      "37800/37800 [==============================] - 1s - loss: 0.1425 - acc: 0.9578     \n",
      "Epoch 17/50\n",
      "37800/37800 [==============================] - 1s - loss: 0.1373 - acc: 0.9598     \n",
      "Epoch 18/50\n",
      "37800/37800 [==============================] - 1s - loss: 0.1283 - acc: 0.9616     \n",
      "Epoch 19/50\n",
      "37800/37800 [==============================] - 1s - loss: 0.1252 - acc: 0.9629     \n",
      "Epoch 20/50\n",
      "37800/37800 [==============================] - 1s - loss: 0.1195 - acc: 0.9641     \n",
      "Epoch 21/50\n",
      "37800/37800 [==============================] - 1s - loss: 0.1176 - acc: 0.9653     \n",
      "Epoch 22/50\n",
      "37800/37800 [==============================] - 1s - loss: 0.1106 - acc: 0.9666     \n",
      "Epoch 23/50\n",
      "37800/37800 [==============================] - 1s - loss: 0.1079 - acc: 0.9667     \n",
      "Epoch 24/50\n",
      "37800/37800 [==============================] - 1s - loss: 0.1059 - acc: 0.9685     \n",
      "Epoch 25/50\n",
      "37800/37800 [==============================] - 1s - loss: 0.1026 - acc: 0.9691     \n",
      "Epoch 26/50\n",
      "37800/37800 [==============================] - 1s - loss: 0.0986 - acc: 0.9701     \n",
      "Epoch 27/50\n",
      "37800/37800 [==============================] - 1s - loss: 0.0949 - acc: 0.9713     \n",
      "Epoch 28/50\n",
      "37800/37800 [==============================] - 1s - loss: 0.0938 - acc: 0.9724     \n",
      "Epoch 29/50\n",
      "37800/37800 [==============================] - 1s - loss: 0.0904 - acc: 0.9725     \n",
      "Epoch 30/50\n",
      "37800/37800 [==============================] - 1s - loss: 0.0872 - acc: 0.9741     \n",
      "Epoch 31/50\n",
      "37800/37800 [==============================] - 1s - loss: 0.0844 - acc: 0.9747     \n",
      "Epoch 32/50\n",
      "37800/37800 [==============================] - 1s - loss: 0.0813 - acc: 0.9748     \n",
      "Epoch 33/50\n",
      "37800/37800 [==============================] - 1s - loss: 0.0810 - acc: 0.9751     \n",
      "Epoch 34/50\n",
      "37800/37800 [==============================] - 1s - loss: 0.0763 - acc: 0.9769     \n",
      "Epoch 35/50\n",
      "37800/37800 [==============================] - 1s - loss: 0.0768 - acc: 0.9779     \n",
      "Epoch 36/50\n",
      "37800/37800 [==============================] - 1s - loss: 0.0742 - acc: 0.9776     \n",
      "Epoch 37/50\n",
      "37800/37800 [==============================] - 1s - loss: 0.0724 - acc: 0.9780     \n",
      "Epoch 38/50\n",
      "37800/37800 [==============================] - 1s - loss: 0.0701 - acc: 0.9794     \n",
      "Epoch 39/50\n",
      "37800/37800 [==============================] - 1s - loss: 0.0711 - acc: 0.9779     \n",
      "Epoch 40/50\n",
      "37800/37800 [==============================] - 1s - loss: 0.0680 - acc: 0.9789     \n",
      "Epoch 41/50\n",
      "37800/37800 [==============================] - 1s - loss: 0.0651 - acc: 0.9805     \n",
      "Epoch 42/50\n",
      "37800/37800 [==============================] - 1s - loss: 0.0633 - acc: 0.9806     \n",
      "Epoch 43/50\n",
      "37800/37800 [==============================] - 1s - loss: 0.0640 - acc: 0.9816     \n",
      "Epoch 44/50\n",
      "37800/37800 [==============================] - 1s - loss: 0.0609 - acc: 0.9818     \n",
      "Epoch 45/50\n",
      "37800/37800 [==============================] - 1s - loss: 0.0624 - acc: 0.9813     \n",
      "Epoch 46/50\n",
      "37800/37800 [==============================] - 1s - loss: 0.0605 - acc: 0.9815     \n",
      "Epoch 47/50\n",
      "37800/37800 [==============================] - 1s - loss: 0.0562 - acc: 0.9831     \n",
      "Epoch 48/50\n",
      "37800/37800 [==============================] - 1s - loss: 0.0545 - acc: 0.9834     \n",
      "Epoch 49/50\n",
      "37800/37800 [==============================] - 1s - loss: 0.0572 - acc: 0.9831     \n",
      "Epoch 50/50\n",
      "37800/37800 [==============================] - 1s - loss: 0.0550 - acc: 0.9833     \n"
     ]
    },
    {
     "data": {
      "text/plain": [
       "<keras.callbacks.History at 0x7f53747f5e90>"
      ]
     },
     "execution_count": 11,
     "metadata": {},
     "output_type": "execute_result"
    }
   ],
   "source": [
    "model = Sequential()\n",
    "model.add(Dense(32,activation='relu',input_dim=784))\n",
    "model.add(Dense(64,activation='relu'))\n",
    "model.add(Dropout(0.03))\n",
    "model.add(Dense(128,activation='relu'))\n",
    "model.add(Dropout(0.03))\n",
    "model.add(Dense(256, activation='relu'))\n",
    "model.add(Dropout(0.25))\n",
    "model.add(Dense(10, activation='softmax'))\n",
    "\n",
    "model.compile(loss=keras.losses.categorical_crossentropy, optimizer=keras.optimizers.Adadelta(), metrics=['accuracy'])\n",
    "\n",
    "model.fit(X_train.values, y_train, batch_size=128, epochs=50, verbose=1)"
   ]
  },
  {
   "cell_type": "markdown",
   "metadata": {},
   "source": [
    "## Test"
   ]
  },
  {
   "cell_type": "code",
   "execution_count": 14,
   "metadata": {},
   "outputs": [
    {
     "data": {
      "text/html": [
       "<div>\n",
       "<style>\n",
       "    .dataframe thead tr:only-child th {\n",
       "        text-align: right;\n",
       "    }\n",
       "\n",
       "    .dataframe thead th {\n",
       "        text-align: left;\n",
       "    }\n",
       "\n",
       "    .dataframe tbody tr th {\n",
       "        vertical-align: top;\n",
       "    }\n",
       "</style>\n",
       "<table border=\"1\" class=\"dataframe\">\n",
       "  <thead>\n",
       "    <tr style=\"text-align: right;\">\n",
       "      <th></th>\n",
       "      <th>pixel0</th>\n",
       "      <th>pixel1</th>\n",
       "      <th>pixel2</th>\n",
       "      <th>pixel3</th>\n",
       "      <th>pixel4</th>\n",
       "      <th>pixel5</th>\n",
       "      <th>pixel6</th>\n",
       "      <th>pixel7</th>\n",
       "      <th>pixel8</th>\n",
       "      <th>pixel9</th>\n",
       "      <th>...</th>\n",
       "      <th>pixel774</th>\n",
       "      <th>pixel775</th>\n",
       "      <th>pixel776</th>\n",
       "      <th>pixel777</th>\n",
       "      <th>pixel778</th>\n",
       "      <th>pixel779</th>\n",
       "      <th>pixel780</th>\n",
       "      <th>pixel781</th>\n",
       "      <th>pixel782</th>\n",
       "      <th>pixel783</th>\n",
       "    </tr>\n",
       "  </thead>\n",
       "  <tbody>\n",
       "    <tr>\n",
       "      <th>0</th>\n",
       "      <td>0</td>\n",
       "      <td>0</td>\n",
       "      <td>0</td>\n",
       "      <td>0</td>\n",
       "      <td>0</td>\n",
       "      <td>0</td>\n",
       "      <td>0</td>\n",
       "      <td>0</td>\n",
       "      <td>0</td>\n",
       "      <td>0</td>\n",
       "      <td>...</td>\n",
       "      <td>0</td>\n",
       "      <td>0</td>\n",
       "      <td>0</td>\n",
       "      <td>0</td>\n",
       "      <td>0</td>\n",
       "      <td>0</td>\n",
       "      <td>0</td>\n",
       "      <td>0</td>\n",
       "      <td>0</td>\n",
       "      <td>0</td>\n",
       "    </tr>\n",
       "    <tr>\n",
       "      <th>1</th>\n",
       "      <td>0</td>\n",
       "      <td>0</td>\n",
       "      <td>0</td>\n",
       "      <td>0</td>\n",
       "      <td>0</td>\n",
       "      <td>0</td>\n",
       "      <td>0</td>\n",
       "      <td>0</td>\n",
       "      <td>0</td>\n",
       "      <td>0</td>\n",
       "      <td>...</td>\n",
       "      <td>0</td>\n",
       "      <td>0</td>\n",
       "      <td>0</td>\n",
       "      <td>0</td>\n",
       "      <td>0</td>\n",
       "      <td>0</td>\n",
       "      <td>0</td>\n",
       "      <td>0</td>\n",
       "      <td>0</td>\n",
       "      <td>0</td>\n",
       "    </tr>\n",
       "    <tr>\n",
       "      <th>2</th>\n",
       "      <td>0</td>\n",
       "      <td>0</td>\n",
       "      <td>0</td>\n",
       "      <td>0</td>\n",
       "      <td>0</td>\n",
       "      <td>0</td>\n",
       "      <td>0</td>\n",
       "      <td>0</td>\n",
       "      <td>0</td>\n",
       "      <td>0</td>\n",
       "      <td>...</td>\n",
       "      <td>0</td>\n",
       "      <td>0</td>\n",
       "      <td>0</td>\n",
       "      <td>0</td>\n",
       "      <td>0</td>\n",
       "      <td>0</td>\n",
       "      <td>0</td>\n",
       "      <td>0</td>\n",
       "      <td>0</td>\n",
       "      <td>0</td>\n",
       "    </tr>\n",
       "  </tbody>\n",
       "</table>\n",
       "<p>3 rows × 784 columns</p>\n",
       "</div>"
      ],
      "text/plain": [
       "   pixel0  pixel1  pixel2  pixel3  pixel4  pixel5  pixel6  pixel7  pixel8  \\\n",
       "0       0       0       0       0       0       0       0       0       0   \n",
       "1       0       0       0       0       0       0       0       0       0   \n",
       "2       0       0       0       0       0       0       0       0       0   \n",
       "\n",
       "   pixel9    ...     pixel774  pixel775  pixel776  pixel777  pixel778  \\\n",
       "0       0    ...            0         0         0         0         0   \n",
       "1       0    ...            0         0         0         0         0   \n",
       "2       0    ...            0         0         0         0         0   \n",
       "\n",
       "   pixel779  pixel780  pixel781  pixel782  pixel783  \n",
       "0         0         0         0         0         0  \n",
       "1         0         0         0         0         0  \n",
       "2         0         0         0         0         0  \n",
       "\n",
       "[3 rows x 784 columns]"
      ]
     },
     "execution_count": 14,
     "metadata": {},
     "output_type": "execute_result"
    }
   ],
   "source": [
    "df_test = pd.read_csv(\"input/test.csv\")\n",
    "df_test.head(3)"
   ]
  },
  {
   "cell_type": "code",
   "execution_count": 15,
   "metadata": {},
   "outputs": [
    {
     "name": "stdout",
     "output_type": "stream",
     "text": [
      "27328/28000 [============================>.] - ETA: 0s"
     ]
    }
   ],
   "source": [
    "pred_classes = model.predict_classes(df_test.values)"
   ]
  },
  {
   "cell_type": "code",
   "execution_count": 16,
   "metadata": {},
   "outputs": [
    {
     "name": "stdout",
     "output_type": "stream",
     "text": [
      "   ImageId  Label\n",
      "0        1      2\n",
      "1        2      0\n",
      "2        3      9\n",
      "3        4      9\n",
      "4        5      3\n",
      "5        6      7\n",
      "6        7      0\n",
      "7        8      3\n",
      "8        9      0\n",
      "9       10      3\n"
     ]
    }
   ],
   "source": [
    "submission = pd.DataFrame({\n",
    "    \"ImageId\": df_test.index+1,\n",
    "    \"Label\": pred_classes\n",
    "})\n",
    "print(submission[0:10])\n",
    "\n",
    "submission.to_csv('./keras_model_1.csv', index=False)"
   ]
  },
  {
   "cell_type": "code",
   "execution_count": null,
   "metadata": {
    "collapsed": true
   },
   "outputs": [],
   "source": []
  }
 ],
 "metadata": {
  "kernelspec": {
   "display_name": "Python 2",
   "language": "python",
   "name": "python2"
  }
 },
 "nbformat": 4,
 "nbformat_minor": 2
}
